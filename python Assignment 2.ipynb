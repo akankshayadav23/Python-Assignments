{
 "cells": [
  {
   "cell_type": "markdown",
   "id": "37d85083",
   "metadata": {},
   "source": [
    "# #TASK 1"
   ]
  },
  {
   "cell_type": "code",
   "execution_count": 2,
   "id": "3c1c5424",
   "metadata": {},
   "outputs": [
    {
     "name": "stdout",
     "output_type": "stream",
     "text": [
      "Enter the Ramesh's basic salary -30000\n",
      "Ramesh's gross salary is:  48000.0\n"
     ]
    }
   ],
   "source": [
    "##QUESTION 1\n",
    "basic_salary = float(input(\"Enter the Ramesh's basic salary -\"))\n",
    "dearness_allowance = 0.4* basic_salary\n",
    "house_rent_allowance = 0.2*basic_salary\n",
    "gross_salary = basic_salary + dearness_allowance + house_rent_allowance\n",
    "print(\"Ramesh's gross salary is: \",gross_salary)"
   ]
  },
  {
   "cell_type": "code",
   "execution_count": 3,
   "id": "de9c9708",
   "metadata": {},
   "outputs": [
    {
     "name": "stdout",
     "output_type": "stream",
     "text": [
      "Enter the distance between two cities :50\n",
      "distance in meters:  50000.0\n",
      "distance in feet:  164042.0\n",
      "distance in inches:  1968505.0\n",
      "distance in centimeter:  5000000.0\n"
     ]
    }
   ],
   "source": [
    "##QUESTION 2\n",
    "distance_km = float(input(\"Enter the distance between two cities :\"))\n",
    "meters = distance_km*1000\n",
    "feet = distance_km*3280.84\n",
    "inches = distance_km*39370.1\n",
    "centimeter = distance_km*100000\n",
    "print(\"distance in meters: \",meters)\n",
    "print(\"distance in feet: \",feet)\n",
    "print(\"distance in inches: \",inches)\n",
    "print(\"distance in centimeter: \",centimeter)\n"
   ]
  },
  {
   "cell_type": "code",
   "execution_count": 4,
   "id": "8e4fa22d",
   "metadata": {},
   "outputs": [
    {
     "name": "stdout",
     "output_type": "stream",
     "text": [
      "Enter the Marks obtained in subject1 : 70\n",
      "Enter the Marks obtained in subject2 : 50\n",
      "Enter the Marks obtained in subject3 : 60\n",
      "Enter the Marks obtained in subject4 : 80\n",
      "Enter the Marks obtained in subject5 : 85\n",
      "Aggregate marks obtained : 345.0 out of 500\n",
      "percentage scored : 69.0\n"
     ]
    }
   ],
   "source": [
    "##QUESTION 3\n",
    "Subject1 = float(input(\"Enter the Marks obtained in subject1 : \"))\n",
    "Subject2 = float(input(\"Enter the Marks obtained in subject2 : \"))\n",
    "Subject3 = float(input(\"Enter the Marks obtained in subject3 : \"))\n",
    "Subject4 = float(input(\"Enter the Marks obtained in subject4 : \"))\n",
    "Subject5 = float(input(\"Enter the Marks obtained in subject5 : \"))\n",
    "\n",
    "total_marks = Subject1+Subject2+Subject3+Subject4+Subject5\n",
    "max_marks_per_subject = 100\n",
    "percentage = (total_marks/(5*max_marks_per_subject))*100\n",
    "print(\"Aggregate marks obtained :\",total_marks,\"out of 500\")\n",
    "print(\"percentage scored :\",percentage)\n",
    "\n"
   ]
  },
  {
   "cell_type": "code",
   "execution_count": 8,
   "id": "a7afeee6",
   "metadata": {},
   "outputs": [
    {
     "name": "stdout",
     "output_type": "stream",
     "text": [
      "Enter the value of Length : 5\n",
      "Enter the value of the breadth : 2\n",
      "The Area of a Rectangle is : 10\n",
      "The Perimeter of a Rectangle is : 14\n"
     ]
    }
   ],
   "source": [
    "##QUESTION 4\n",
    "## Area and peremeter of rectangle\n",
    "length =int(input(\"Enter the value of Length : \"))\n",
    "breadth = int(input(\"Enter the value of the breadth : \"))\n",
    "area = length*breadth\n",
    "perimeter = 2*(length+breadth)\n",
    "print(\"The Area of a Rectangle is :\",area)\n",
    "print(\"The Perimeter of a Rectangle is :\",perimeter)"
   ]
  },
  {
   "cell_type": "code",
   "execution_count": 17,
   "id": "890bf1c5",
   "metadata": {},
   "outputs": [
    {
     "name": "stdout",
     "output_type": "stream",
     "text": [
      "Enter the vlue of a Radius : 5\n",
      "The Area of a Circle is : 78.5\n",
      "the circumference of circle is:31.400000\n"
     ]
    }
   ],
   "source": [
    "##area of a circle and circumference of a circle\n",
    "radius=float(input(\"Enter the vlue of a Radius : \",))\n",
    "area = 3.14*radius*radius\n",
    "circum = 2*3.14*radius\n",
    "print(\"The Area of a Circle is :\",area)\n",
    "print(f\"the circumference of circle is:{circum:2f}\")\n",
    "      "
   ]
  },
  {
   "cell_type": "code",
   "execution_count": 15,
   "id": "c9a47f51",
   "metadata": {},
   "outputs": [
    {
     "name": "stdout",
     "output_type": "stream",
     "text": [
      "Enter the Temperature of your City :89\n",
      "Temperature of your city is: 31.67 degree celsius\n"
     ]
    }
   ],
   "source": [
    "##QUESTION 5\n",
    "temperature_in_fahrenheit = float(input(\"Enter the Temperature of your City :\"))\n",
    "\n",
    "celcius = (temperature_in_fahrenheit-32)*5/9\n",
    "print(f\"Temperature of your city is: {celcius:.2f} degree celsius\")\n"
   ]
  },
  {
   "cell_type": "code",
   "execution_count": 18,
   "id": "c062cc47",
   "metadata": {},
   "outputs": [
    {
     "name": "stdout",
     "output_type": "stream",
     "text": [
      "Enter the value of C : 10\n",
      "Enter the value of D: 20\n",
      "The value of C : 20.0\n",
      "The value of D : 10.0\n"
     ]
    }
   ],
   "source": [
    "##QUESTION 6\n",
    "C =float(input(\"Enter the value of C : \"))\n",
    "D =float(input(\"Enter the value of D: \"))\n",
    "change_c = D\n",
    "change_d = C\n",
    "print(\"The value of C :\",change_c)\n",
    "print(\"The value of D :\",change_d)\n"
   ]
  },
  {
   "cell_type": "code",
   "execution_count": 25,
   "id": "3a4cff37",
   "metadata": {},
   "outputs": [],
   "source": [
    "## QUESTION 7\n",
    "\n",
    "#number = int(input(\"Enter the five digit value : \"))\n",
    "#sum_digits = sum(map(int,number))\n",
    "#print(\"the sum of the five digits numbers are :\",sum_digits)"
   ]
  },
  {
   "cell_type": "markdown",
   "id": "cd5804d4",
   "metadata": {},
   "source": []
  },
  {
   "cell_type": "code",
   "execution_count": 3,
   "id": "d8156935",
   "metadata": {},
   "outputs": [
    {
     "name": "stdout",
     "output_type": "stream",
     "text": [
      "Enter the value of 5 digits :46577\n",
      "the reversed value is:  77564\n"
     ]
    }
   ],
   "source": [
    "## QUESTION 8\n",
    "Number = (input(\"Enter the value of 5 digits :\"))\n",
    "if len(Number) ==5 and Number.isdigit():\n",
    "    reverse_no = Number[::-1]\n",
    "    print(\"the reversed value is: \",reverse_no)"
   ]
  },
  {
   "cell_type": "code",
   "execution_count": 8,
   "id": "f8769737",
   "metadata": {},
   "outputs": [
    {
     "name": "stdout",
     "output_type": "stream",
     "text": [
      "Enter the 4 digit value : 4567\n",
      "the sum of first and last digit is : 11\n"
     ]
    }
   ],
   "source": [
    "## question 9\n",
    "number = input(\"Enter the 4 digit value : \")\n",
    "if len(number) == 4 and number.isdigit():\n",
    "    number =int(number)\n",
    "    f_digit = number // 1000\n",
    "    l_digit = number % 10\n",
    "    sum_of_digits = f_digit+l_digit \n",
    "    print(\"the sum of first and last digit is :\",sum_of_digits)\n",
    "    "
   ]
  },
  {
   "cell_type": "code",
   "execution_count": 9,
   "id": "d851e8ab",
   "metadata": {},
   "outputs": [
    {
     "name": "stdout",
     "output_type": "stream",
     "text": [
      "The Total no. of illiterate men and women are : 41600.0\n"
     ]
    }
   ],
   "source": [
    "## question 10 \n",
    "total_men = 41600\n",
    "total_women = 38400\n",
    "literate_men = (35*80000)/100\n",
    "literate_women = (13*80000)/100\n",
    "illiterate_men = 41600 - literate_men\n",
    "illiterate_women = 80000-41600-literate_women\n",
    "total_illiterate_men_women = illiterate_men +illiterate_women\n",
    "print(\"The Total no. of illiterate men and women are :\",total_illiterate_men_women)"
   ]
  },
  {
   "cell_type": "code",
   "execution_count": 11,
   "id": "9c2f6bcc",
   "metadata": {},
   "outputs": [
    {
     "name": "stdout",
     "output_type": "stream",
     "text": [
      "Enter the total selling price of the 15 items :50000\n",
      "Enter the total profit earned :70000\n",
      "the cost price of one item is : -1333.3333333333333\n"
     ]
    }
   ],
   "source": [
    "## question 12\n",
    "total_price = float(input(\"Enter the total selling price of the 15 items :\"))\n",
    "total_profit = float(input(\"Enter the total profit earned :\"))\n",
    "cost_per_item = (total_price-total_profit)/ 15\n",
    "print(\"the cost price of one item is :\",cost_per_item)"
   ]
  },
  {
   "cell_type": "code",
   "execution_count": 12,
   "id": "36c3f0f9",
   "metadata": {},
   "outputs": [
    {
     "name": "stdout",
     "output_type": "stream",
     "text": [
      "enter a five digit number :45673\n",
      "the new number is : 56784\n"
     ]
    }
   ],
   "source": [
    "##question 13\n",
    "number = input(\"enter a five digit number :\")\n",
    "if len(number)==5 and number.isdigit():\n",
    "    new_number = \"\".join(str(int(digit)+1) for digit in number)\n",
    "    print(\"the new number is :\",new_number)"
   ]
  },
  {
   "cell_type": "markdown",
   "id": "ee2056d2",
   "metadata": {},
   "source": [
    "# #Task 2"
   ]
  },
  {
   "cell_type": "code",
   "execution_count": 17,
   "id": "5f47a5a4",
   "metadata": {},
   "outputs": [
    {
     "name": "stdout",
     "output_type": "stream",
     "text": [
      "enter the quantity purchased :14\n",
      "enter the price per item :365\n",
      "the total expence is : 4599.0\n"
     ]
    }
   ],
   "source": [
    "## question 1\n",
    "quantity = int(input(\"enter the quantity purchased :\"))\n",
    "price_per_item = float(input(\"enter the price per item :\"))\n",
    "total_price = price_per_item*quantity\n",
    "if quantity >10:\n",
    "    discount = 0.10*total_price\n",
    "    total_price = total_price-discount\n",
    "    print(\"the total expence is :\",total_price)\n",
    "else:\n",
    "    print(\"the quantity is not applicable for discount\")\n",
    "    \n"
   ]
  },
  {
   "cell_type": "code",
   "execution_count": 3,
   "id": "22ac2fe6",
   "metadata": {},
   "outputs": [
    {
     "name": "stdout",
     "output_type": "stream",
     "text": [
      "Enter the current year : 2023\n",
      "enter the joning year : 2022\n",
      "the employee is not eligible for the bonus\n"
     ]
    }
   ],
   "source": [
    "## question 2\n",
    "current_year = float(input(\"Enter the current year : \"))\n",
    "joining_year = float(input(\"enter the joning year : \"))\n",
    "year_of_service = current_year - joining_year\n",
    "if year_of_service >3:\n",
    "    print(\"the employee is eligible for the bonus 2500\")\n",
    "else:\n",
    "    print(\"the employee is not eligible for the bonus\")"
   ]
  },
  {
   "cell_type": "code",
   "execution_count": 8,
   "id": "0d9c6d47",
   "metadata": {},
   "outputs": [
    {
     "name": "stdout",
     "output_type": "stream",
     "text": [
      "enter the basic salary : 2500\n",
      "the gross salary of the employee is : 5450.0\n"
     ]
    }
   ],
   "source": [
    "## question 3\n",
    "basic_salary= float(input(\"enter the basic salary : \"))\n",
    "if basic_salary < 1500:\n",
    "    hra = 0.1*basic_salary\n",
    "    da = 0.9*basic_salary\n",
    "    gross_salary = basic_salary+hra+da\n",
    "    print(\"the gross salary of the employee is :\",gross_salary)\n",
    "elif basic_salary>=1500:\n",
    "    hra = 500\n",
    "    da =0.98*basic_salary\n",
    "    gross_salary= basic_salary+hra+da\n",
    "    print(\"the gross salary of the employee is :\",gross_salary)"
   ]
  },
  {
   "cell_type": "code",
   "execution_count": 11,
   "id": "82f44421",
   "metadata": {},
   "outputs": [
    {
     "name": "stdout",
     "output_type": "stream",
     "text": [
      "enter the marks of sub1 :87\n",
      "enter the marks of sub2 :78\n",
      "enter the marks of sub3 :67\n",
      "enter the marks of sub4 :59\n",
      "enter the marks of sub5 :78\n",
      "First Division\n"
     ]
    }
   ],
   "source": [
    "## questoin 4\n",
    "sub1=float(input(\"enter the marks of sub1 :\"))\n",
    "sub2=float(input(\"enter the marks of sub2 :\"))\n",
    "sub3=float(input(\"enter the marks of sub3 :\"))\n",
    "sub4=float(input(\"enter the marks of sub4 :\"))\n",
    "sub5=float(input(\"enter the marks of sub5 :\"))\n",
    "obt_mark =sub1+sub2+sub3+sub4+sub5\n",
    "total_mark = 500\n",
    "percent = (obt_mark/total_mark)*100\n",
    "if percent >= 60:\n",
    "    print(\"First Division\")\n",
    "elif 50 <= percent < 60:\n",
    "    print(\"second division\")\n",
    "elif 40 <= percent <50:\n",
    "    print(\"third division\")\n",
    "else:\n",
    "    print(\"fail\")"
   ]
  },
  {
   "cell_type": "code",
   "execution_count": 13,
   "id": "7699429f",
   "metadata": {},
   "outputs": [
    {
     "name": "stdout",
     "output_type": "stream",
     "text": [
      "Is the driver married? (yes or no): no\n",
      "Enter the gender of the driver (male or female): male\n",
      "Enter the age of the driver: 23\n",
      "The driver is not eligible for insurance.\n"
     ]
    }
   ],
   "source": [
    "## question 5\n",
    "# Input driver information from the user\n",
    "marital_status = input(\"Is the driver married? (yes or no): \").lower()\n",
    "gender = input(\"Enter the gender of the driver (male or female): \").lower()\n",
    "age = int(input(\"Enter the age of the driver: \"))\n",
    "\n",
    "# Check if the driver is eligible for insurance\n",
    "eligible = marital_status == \"yes\" or (gender == \"male\" and age > 30) or (gender == \"female\" and age > 25)\n",
    "\n",
    "# Display the eligibility status\n",
    "if eligible:\n",
    "    print(\"The driver is eligible for insurance.\")\n",
    "else:\n",
    "    print(\"The driver is not eligible for insurance.\")"
   ]
  },
  {
   "cell_type": "raw",
   "id": "af2355ec",
   "metadata": {},
   "source": []
  },
  {
   "cell_type": "code",
   "execution_count": 17,
   "id": "f2ba2a9d",
   "metadata": {
    "scrolled": true
   },
   "outputs": [
    {
     "name": "stdout",
     "output_type": "stream",
     "text": [
      "enter the year of service :13\n",
      "enter the gender (male/female) :male\n",
      "enter the qualification (post-graduate/graduate):graduate\n",
      "the total salary is : 0\n"
     ]
    }
   ],
   "source": [
    "##question 6\n",
    "year_of_service = float(input(\"enter the year of service :\"))\n",
    "gender = (input(\"enter the gender (male/female) :\"))\n",
    "qualification = input(\"enter the qualification (post-graduate/graduate):\")\n",
    "base_salary = 0\n",
    "if gender ==\"male\":\n",
    "    if qualification==\"post-graduate\":\n",
    "        base_salary== 15000 if year_of_service >= 10 else 10000\n",
    "    else:\n",
    "        base_salary == 10000 if year_of_service>= 10 else 7000\n",
    "elif gender ==\"female\":\n",
    "    if qualification==\"post-graduate\":\n",
    "        base_salary==12000 if year_of_service >=10 else 10000\n",
    "    else:\n",
    "        base_salary ==9000 if year_of_service>=10 else 6000\n",
    "print(\"the total salary is :\",base_salary)\n",
    "    "
   ]
  },
  {
   "cell_type": "code",
   "execution_count": 20,
   "id": "2bea353a",
   "metadata": {},
   "outputs": [
    {
     "name": "stdout",
     "output_type": "stream",
     "text": [
      "enter the cost price :4500\n",
      "enter the selling price :6000\n",
      "the seller has made a profit \n"
     ]
    }
   ],
   "source": [
    "## question 7\n",
    "cp = float(input(\"enter the cost price :\"))\n",
    "sp = float(input(\"enter the selling price :\"))\n",
    "profit = sp-cp\n",
    "loss = cp-sp\n",
    "if sp>cp:\n",
    "    print(\"the seller has made a profit \")\n",
    "else:\n",
    "    print(\"the seller has made a loss\")\n",
    "    "
   ]
  },
  {
   "cell_type": "code",
   "execution_count": 22,
   "id": "b52cee25",
   "metadata": {},
   "outputs": [
    {
     "name": "stdout",
     "output_type": "stream",
     "text": [
      "enter the value :6\n",
      "the number is an even \n"
     ]
    }
   ],
   "source": [
    "## question 8\n",
    "number = int(input(\"enter the value :\"))\n",
    "if number%2==0:\n",
    "    print(\"the number is an even \")\n",
    "else:\n",
    "    print(\"the number is odd\")\n",
    "    "
   ]
  },
  {
   "cell_type": "code",
   "execution_count": 32,
   "id": "27dcbb52",
   "metadata": {},
   "outputs": [
    {
     "name": "stdout",
     "output_type": "stream",
     "text": [
      "enter the five digit value :76453\n",
      "the reversed number is : 35467\n"
     ]
    }
   ],
   "source": [
    "## question 9\n",
    "number = input(\"enter the five digit value :\")\n",
    "if len(number)==5 and number.isdigit():\n",
    "    r_number = int(str(number[::-1]))\n",
    "    print(\"the reversed number is :\",r_number)\n"
   ]
  },
  {
   "cell_type": "code",
   "execution_count": 37,
   "id": "76955342",
   "metadata": {},
   "outputs": [
    {
     "name": "stdout",
     "output_type": "stream",
     "text": [
      "enter the ram age:34\n",
      "enter the  shyam age :32\n",
      "enter the ajay age :54\n",
      "the youngest person is : shyam\n"
     ]
    }
   ],
   "source": [
    "## question 10\n",
    "ram = int(input(\"enter the ram age:\"))\n",
    "shyam = int(input(\"enter the  shyam age :\"))\n",
    "ajay = int(input(\"enter the ajay age :\"))\n",
    "\n",
    "young = min(ram,shyam,ajay)\n",
    "if young == ram:\n",
    "    youngest_name =\"ram\"\n",
    "elif young == shyam:\n",
    "    youngest_name =\"shyam\"\n",
    "else:\n",
    "    youngest_name =\"ajay\"\n",
    "print(\"the youngest person is :\",youngest_name)\n",
    "    \n",
    "\n"
   ]
  },
  {
   "cell_type": "code",
   "execution_count": 40,
   "id": "a1268be4",
   "metadata": {},
   "outputs": [
    {
     "name": "stdout",
     "output_type": "stream",
     "text": [
      "enter the angle 1 value :34\n",
      "enter the angle 2 value :65\n",
      "enter the angle 3 value :32\n",
      "it is not a triangle\n"
     ]
    }
   ],
   "source": [
    "## question 11\n",
    "a1 = float(input(\"enter the angle 1 value :\"))\n",
    "a2 = float(input(\"enter the angle 2 value :\"))\n",
    "a3 = float(input(\"enter the angle 3 value :\"))\n",
    "triangle = a1+a2+a3\n",
    "if triangle == 180:\n",
    "    print(\"it is a triangle\")\n",
    "else:\n",
    "    print(\"it is not a triangle\")\n"
   ]
  },
  {
   "cell_type": "code",
   "execution_count": 41,
   "id": "c843a50a",
   "metadata": {},
   "outputs": [
    {
     "name": "stdout",
     "output_type": "stream",
     "text": [
      "enter the value :-7\n",
      "the absolute value is : 7.0\n"
     ]
    }
   ],
   "source": [
    "## question 12\n",
    "number = float(input(\"enter the value :\"))\n",
    "absolute_value = abs(number)\n",
    "print(\"the absolute value is :\",absolute_value)\n"
   ]
  },
  {
   "cell_type": "code",
   "execution_count": 43,
   "id": "28b67702",
   "metadata": {},
   "outputs": [
    {
     "name": "stdout",
     "output_type": "stream",
     "text": [
      "enter the value of the length :4\n",
      "enter the value of the Breadth :6\n",
      "the area of a rectangle is greater than perimeter\n"
     ]
    }
   ],
   "source": [
    "## question 13\n",
    "L = int(input(\"enter the value of the length :\"))\n",
    "b = int(input(\"enter the value of the Breadth :\"))\n",
    "area = L*b\n",
    "peri = 2*(L+b)\n",
    "if area>peri:\n",
    "    print(\"the area of a rectangle is greater than perimeter\")\n",
    "else:\n",
    "    print(\"the perimeter is greater than than the area\")"
   ]
  },
  {
   "cell_type": "code",
   "execution_count": 45,
   "id": "ca62caad",
   "metadata": {},
   "outputs": [
    {
     "name": "stdout",
     "output_type": "stream",
     "text": [
      "Enter a year: 2004\n",
      "2004 is a leap year.\n"
     ]
    }
   ],
   "source": [
    "# Input a year from the user\n",
    "year = int(input(\"Enter a year: \"))\n",
    "is_leap_year = (year % 4 == 0) and (year % 100 != 0) or (year % 400 == 0)\n",
    "if is_leap_year:\n",
    "    print(f\"{year} is a leap year.\")\n",
    "else:\n",
    "    print(f\"{year} is not a leap year.\")"
   ]
  },
  {
   "cell_type": "markdown",
   "id": "be665e45",
   "metadata": {},
   "source": [
    "# Task 3"
   ]
  },
  {
   "cell_type": "code",
   "execution_count": 2,
   "id": "503c11a0",
   "metadata": {},
   "outputs": [
    {
     "name": "stdout",
     "output_type": "stream",
     "text": [
      "enter the value10\n",
      "the factor of the 10 are :\n",
      "1\n",
      "2\n",
      "5\n",
      "10\n"
     ]
    }
   ],
   "source": [
    "## question 1\n",
    "number = int(input(\"enter the value\"))\n",
    "print(f\"the factor of the {number} are :\")\n",
    "for i in range(1,number+1):\n",
    "    if number%i ==0:\n",
    "        print(i)"
   ]
  },
  {
   "cell_type": "code",
   "execution_count": null,
   "id": "564aabc9",
   "metadata": {},
   "outputs": [],
   "source": [
    "## question 3\n"
   ]
  }
 ],
 "metadata": {
  "kernelspec": {
   "display_name": "Python 3 (ipykernel)",
   "language": "python",
   "name": "python3"
  },
  "language_info": {
   "codemirror_mode": {
    "name": "ipython",
    "version": 3
   },
   "file_extension": ".py",
   "mimetype": "text/x-python",
   "name": "python",
   "nbconvert_exporter": "python",
   "pygments_lexer": "ipython3",
   "version": "3.11.3"
  }
 },
 "nbformat": 4,
 "nbformat_minor": 5
}
