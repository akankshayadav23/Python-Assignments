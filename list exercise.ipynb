{
 "cells": [
  {
   "cell_type": "markdown",
   "id": "1176ed6c",
   "metadata": {},
   "source": [
    "## List exercise\n"
   ]
  },
  {
   "cell_type": "code",
   "execution_count": 1,
   "id": "499284f8",
   "metadata": {},
   "outputs": [
    {
     "name": "stdout",
     "output_type": "stream",
     "text": [
      "the sum of its all item are : 3\n"
     ]
    }
   ],
   "source": [
    "## question 1\n",
    "a =[2,4,-6,5,7,-9]\n",
    "sum_number = sum(a)\n",
    "print(\"the sum of its all item are :\",sum_number)\n",
    "\n"
   ]
  },
  {
   "cell_type": "code",
   "execution_count": 3,
   "id": "fc67846b",
   "metadata": {},
   "outputs": [
    {
     "name": "stdout",
     "output_type": "stream",
     "text": [
      "the multiple of the item are : 1680\n"
     ]
    }
   ],
   "source": [
    "## question 2\n",
    "a= [2,7,4,5,6]\n",
    "product = 1\n",
    "for num in a:\n",
    "    product*= num\n",
    "print('the multiple of the item are :',product)"
   ]
  },
  {
   "cell_type": "code",
   "execution_count": 4,
   "id": "f4e18b0e",
   "metadata": {},
   "outputs": [
    {
     "name": "stdout",
     "output_type": "stream",
     "text": [
      "the ,maximum value of the item is : 98\n"
     ]
    }
   ],
   "source": [
    "## question 3\n",
    "a= [23,10,76,45,32,12,98]\n",
    "max_value = max(a)\n",
    "print(\"the ,maximum value of the item is :\",max_value)"
   ]
  },
  {
   "cell_type": "code",
   "execution_count": 5,
   "id": "a12ba348",
   "metadata": {},
   "outputs": [
    {
     "name": "stdout",
     "output_type": "stream",
     "text": [
      "the minimum value of item is : 21\n"
     ]
    }
   ],
   "source": [
    "## question 4\n",
    "a=[34,65,43,221,45,67,87,21,32]\n",
    "min_value =min(a)\n",
    "print(\"the minimum value of item is :\",min_value)"
   ]
  },
  {
   "cell_type": "code",
   "execution_count": 8,
   "id": "f7c5095d",
   "metadata": {},
   "outputs": [
    {
     "name": "stdout",
     "output_type": "stream",
     "text": [
      " the no.of strings where first and last characters are the same : 3\n"
     ]
    }
   ],
   "source": [
    "## question 5\n",
    "value = [\"aba\",\"hello\",\"level\",\"elle\"]\n",
    "count = 0\n",
    "for a in value:\n",
    "    if len(a)>=2 and a[0]==a[-1]:\n",
    "        count+= 1\n",
    "print(\" the no.of strings where first and last characters are the same :\",count)\n"
   ]
  },
  {
   "cell_type": "code",
   "execution_count": 10,
   "id": "9e9d58ea",
   "metadata": {},
   "outputs": [
    {
     "name": "stdout",
     "output_type": "stream",
     "text": [
      "{1, 2, 3, 5, 6, 8}\n"
     ]
    }
   ],
   "source": [
    "## question 6\n",
    "a =[1,3,5,2,3,6,8,5,6]\n",
    "b = set(a)\n",
    "print(b)"
   ]
  },
  {
   "cell_type": "code",
   "execution_count": 11,
   "id": "12080926",
   "metadata": {},
   "outputs": [
    {
     "name": "stdout",
     "output_type": "stream",
     "text": [
      " the list is empty\n"
     ]
    }
   ],
   "source": [
    "## question 7\n",
    "lyst =[]\n",
    "if len(lyst)==0:\n",
    "    print(\" the list is empty\")\n",
    "else:\n",
    "    print(\"the list is  not empty\")"
   ]
  },
  {
   "cell_type": "code",
   "execution_count": 12,
   "id": "81d50d51",
   "metadata": {},
   "outputs": [
    {
     "name": "stdout",
     "output_type": "stream",
     "text": [
      "[2, 5, 6, 3, 4]\n"
     ]
    }
   ],
   "source": [
    "## question 8\n",
    "a =[2,5,6,3,4]\n",
    "b= a.copy()\n",
    "print(b)"
   ]
  },
  {
   "cell_type": "code",
   "execution_count": 16,
   "id": "c74fec30",
   "metadata": {},
   "outputs": [
    {
     "name": "stdout",
     "output_type": "stream",
     "text": [
      "['apple', 'banana', 'mango', 'orange']\n"
     ]
    }
   ],
   "source": [
    "## question 9\n",
    "words = [\"apple\",\"banana\",\"mango\",\"toy\",\"orange\"]\n",
    "n=4\n",
    "longer_word = [word for word in words if len(word)>n]\n",
    "print(longer_word)"
   ]
  },
  {
   "cell_type": "code",
   "execution_count": null,
   "id": "dfe7015a",
   "metadata": {},
   "outputs": [],
   "source": [
    "## question 10\n"
   ]
  },
  {
   "cell_type": "code",
   "execution_count": 23,
   "id": "867eed96",
   "metadata": {},
   "outputs": [
    {
     "name": "stdout",
     "output_type": "stream",
     "text": [
      "enter the value :2,5,7,4\n",
      "enter the value :2,9,7,3\n",
      "{'7', '2'}\n"
     ]
    }
   ],
   "source": [
    "a = input(\"enter the value :\").split(',')\n",
    "b= input(\"enter the value :\").split(',')\n",
    "lyst1 = list(a)\n",
    "lyst2= list(b)\n",
    "set1 = set(lyst1)\n",
    "set2 = set(lyst2)\n",
    "common = set1.intersection(set2)\n",
    "print(common)"
   ]
  },
  {
   "cell_type": "code",
   "execution_count": 29,
   "id": "791a7e00",
   "metadata": {},
   "outputs": [],
   "source": [
    "## question 11\n",
    "lyst = [\"cat\",\"dog\",\"rat\",\"mat\",\"sea\",\"soon\",\"sunset\"]\n",
    "\n",
    "\n",
    "\n",
    "\n",
    "\n"
   ]
  },
  {
   "cell_type": "code",
   "execution_count": 30,
   "id": "694c6d71",
   "metadata": {},
   "outputs": [
    {
     "name": "stdout",
     "output_type": "stream",
     "text": [
      "the filtered number after removing the even numbers are : [23, 33, 41, 47, 27]\n"
     ]
    }
   ],
   "source": [
    "## question 12\n",
    "number = [23,24,56,33,41,47,58,26,27]\n",
    "odd_value = [num for num in number if num %2 != 0]\n",
    "print(\"the filtered number after removing the even numbers are :\",odd_value)"
   ]
  },
  {
   "cell_type": "code",
   "execution_count": 41,
   "id": "2a8052b9",
   "metadata": {},
   "outputs": [
    {
     "name": "stdout",
     "output_type": "stream",
     "text": [
      "['cat', 'rat', 'boy']\n"
     ]
    }
   ],
   "source": [
    "## question 13\n",
    "import random\n",
    "\n",
    "lyst = [ \"boy\",\"cat\",\"rat\"]\n",
    "random.shuffle(lyst)\n",
    "print(lyst)"
   ]
  },
  {
   "cell_type": "code",
   "execution_count": 43,
   "id": "4dad3deb",
   "metadata": {},
   "outputs": [
    {
     "name": "stdout",
     "output_type": "stream",
     "text": [
      "first five element: [1, 4, 9, 16, 25]\n",
      "last five element: [676, 729, 784, 841, 900]\n"
     ]
    }
   ],
   "source": [
    "## question 14\n",
    "sqr_list =[i **2 for i in range(1,31)]\n",
    "first5 = sqr_list[:5]\n",
    "last5 = sqr_list[-5:]\n",
    "print(\"first five element:\",first5)\n",
    "print(\"last five element:\",last5)"
   ]
  },
  {
   "cell_type": "code",
   "execution_count": 45,
   "id": "03bd2078",
   "metadata": {},
   "outputs": [
    {
     "name": "stdout",
     "output_type": "stream",
     "text": [
      "[(1, 4, 5), (1, 5, 4), (4, 1, 5), (4, 5, 1), (5, 1, 4), (5, 4, 1)]\n"
     ]
    }
   ],
   "source": [
    "## questiion 15\n",
    "import itertools\n",
    "lyst = [1,4,5]\n",
    "permutation = list(itertools.permutations(lyst))\n",
    "print(permutation)"
   ]
  },
  {
   "cell_type": "code",
   "execution_count": 46,
   "id": "f8357fd0",
   "metadata": {},
   "outputs": [
    {
     "name": "stdout",
     "output_type": "stream",
     "text": [
      "akanksha\n"
     ]
    }
   ],
   "source": [
    "## question 16\n",
    "lyst = ['a','k','a','n','k','s','h','a']\n",
    "string = ''.join(lyst)\n",
    "print(string)"
   ]
  },
  {
   "cell_type": "code",
   "execution_count": 47,
   "id": "68b1b174",
   "metadata": {},
   "outputs": [
    {
     "name": "stdout",
     "output_type": "stream",
     "text": [
      "3\n"
     ]
    }
   ],
   "source": [
    "## question 17\n",
    "lyst =[2,5,6,7,8,9,12,34,5]\n",
    "# for finding the index value of 7\n",
    "index = lyst.index(7)\n",
    "print(index)"
   ]
  },
  {
   "cell_type": "code",
   "execution_count": 51,
   "id": "6f608b81",
   "metadata": {},
   "outputs": [
    {
     "name": "stdout",
     "output_type": "stream",
     "text": [
      "[23, 34, 29, 43, 25, 67]\n"
     ]
    }
   ],
   "source": [
    "## question 18\n",
    "lyst = [[23,34],[29,43],[25,67]]\n",
    "flat_list = list(itertools.chain(*lyst))\n",
    "print(flat_list)\n",
    "        \n"
   ]
  },
  {
   "cell_type": "code",
   "execution_count": 52,
   "id": "e75c0a7c",
   "metadata": {},
   "outputs": [
    {
     "name": "stdout",
     "output_type": "stream",
     "text": [
      "[2, 4, 6, 9, 3, 'ash', 'yash', 'shyam']\n"
     ]
    }
   ],
   "source": [
    "## question 19\n",
    "lyst = [2,4,6,9,3]\n",
    "lyst1 = [\"ash\",\"yash\",\"shyam\"]\n",
    "lyst.extend(lyst1)\n",
    "print(lyst)"
   ]
  },
  {
   "cell_type": "code",
   "execution_count": 56,
   "id": "bde15b29",
   "metadata": {},
   "outputs": [
    {
     "name": "stdout",
     "output_type": "stream",
     "text": [
      "ganga\n"
     ]
    }
   ],
   "source": [
    "## question 20\n",
    "lyst = [\"taj\",\"ganga\",\"vanarasi\",\"kashi\",\"agra\"]\n",
    "print(random.choice(lyst))"
   ]
  },
  {
   "cell_type": "code",
   "execution_count": 57,
   "id": "6df72faf",
   "metadata": {},
   "outputs": [
    {
     "name": "stdout",
     "output_type": "stream",
     "text": [
      "False\n",
      "False\n"
     ]
    }
   ],
   "source": [
    "## question 21\n",
    "\n",
    "a = [3,5,7,9,11]\n",
    "b = [5,3,7,9,11]\n",
    "c = [5,4,2,1,8]\n",
    "\n",
    "print(a==b)\n",
    "print(a==c)"
   ]
  },
  {
   "cell_type": "code",
   "execution_count": 58,
   "id": "e3746489",
   "metadata": {},
   "outputs": [
    {
     "name": "stdout",
     "output_type": "stream",
     "text": [
      "second smallest number is : 3\n"
     ]
    }
   ],
   "source": [
    "## question 22\n",
    "lyst = [3,6,2,7,9,5]\n",
    "sorted_no = sorted(lyst)\n",
    "second_lowest = sorted_no[1]\n",
    "print(\"second smallest number is :\",second_lowest)"
   ]
  },
  {
   "cell_type": "code",
   "execution_count": 61,
   "id": "651c22bf",
   "metadata": {},
   "outputs": [
    {
     "name": "stdout",
     "output_type": "stream",
     "text": [
      "45\n"
     ]
    }
   ],
   "source": [
    "## question 23\n",
    "number = [32,45,78,23]\n",
    "number.sort(reverse=True)\n",
    "sec_large = number[1]\n",
    "print(sec_large)"
   ]
  },
  {
   "cell_type": "code",
   "execution_count": 63,
   "id": "96ef8dc4",
   "metadata": {},
   "outputs": [
    {
     "name": "stdout",
     "output_type": "stream",
     "text": [
      "the unique value of the items are : {0, 1, 2, 4, 5, 6, 7, 9}\n"
     ]
    }
   ],
   "source": [
    "## question 24\n",
    "lyst = [2,4,6,5,2,1,0,1,9,2,5,7]\n",
    "unique = set(lyst)\n",
    "print(\"the unique value of the items are :\", unique)"
   ]
  },
  {
   "cell_type": "code",
   "execution_count": 66,
   "id": "7169bb55",
   "metadata": {},
   "outputs": [],
   "source": [
    "## question 25\n",
    "\n",
    "number = [1,2,5,4,3,2,5,7,4,7,6,5,2,3,1,4,6,8,9,8,]"
   ]
  },
  {
   "cell_type": "code",
   "execution_count": 2,
   "id": "e874a95a",
   "metadata": {},
   "outputs": [
    {
     "name": "stdout",
     "output_type": "stream",
     "text": [
      "['T1', 'J1', 'T2', 'J2', 'T3', 'J3', 'T4', 'J4', 'T5', 'J5', 'T6', 'J6', 'T7', 'J7', 'T8', 'J8', 'T9', 'J9', 'T10', 'J10']\n"
     ]
    }
   ],
   "source": [
    "## question 26\n",
    "lyst = ['T','J']\n",
    "n = 10 \n",
    "final_lyst = [item +str(i) for i in range(1,n+1) for item in lyst]\n",
    "print(final_lyst)"
   ]
  },
  {
   "cell_type": "code",
   "execution_count": 3,
   "id": "aae068e7",
   "metadata": {},
   "outputs": [
    {
     "name": "stdout",
     "output_type": "stream",
     "text": [
      "0x7ffb720f9588\n",
      "0x1e305698570\n"
     ]
    }
   ],
   "source": [
    "## question 27\n",
    "x = 20\n",
    "s = \"tutor joes\"\n",
    "unique_id_no = hex(id(x))\n",
    "unique_id_str = hex(id(s))\n",
    "print(unique_id_no)\n",
    "print(unique_id_str)"
   ]
  },
  {
   "cell_type": "code",
   "execution_count": 5,
   "id": "04165924",
   "metadata": {},
   "outputs": [
    {
     "name": "stdout",
     "output_type": "stream",
     "text": [
      "{4, 7}\n"
     ]
    }
   ],
   "source": [
    "## question 28\n",
    "a = [4,7,6,2,3,9]\n",
    "b = [4,7,12,45]\n",
    "A = set(a)\n",
    "B = set(b)\n",
    "print(A.intersection(B))"
   ]
  },
  {
   "cell_type": "code",
   "execution_count": 12,
   "id": "0ba18f15",
   "metadata": {},
   "outputs": [
    {
     "name": "stdout",
     "output_type": "stream",
     "text": [
      "C\n",
      "  cat\n",
      "D\n",
      "  dog\n",
      "R\n",
      "  rat\n",
      "F\n",
      "  fox\n",
      "L\n",
      "  lion\n"
     ]
    }
   ],
   "source": [
    "## question 29\n",
    "lyst = ['cat','dog','rat','fox','lion']\n",
    "for word in lyst:\n",
    "    first_char = word[0].upper()\n",
    "    if not locals().get(\"prev_char\") or first_char != prev_char:\n",
    "        print(first_char)\n",
    "        print(\" \", word)\n",
    "        prev_chat = first_char\n"
   ]
  },
  {
   "cell_type": "code",
   "execution_count": 22,
   "id": "4b18e222",
   "metadata": {},
   "outputs": [
    {
     "name": "stdout",
     "output_type": "stream",
     "text": [
      "odd value is : [1, 3, 5, 7, 9]\n"
     ]
    }
   ],
   "source": [
    "## question 30\n",
    "digit = [1,2,3,4,5,6,7,8,9,10]\n",
    "odd_value =[num for num in digit if num % 2 != 0]\n",
    "print(\"odd value is :\",odd_value)\n"
   ]
  },
  {
   "cell_type": "code",
   "execution_count": 23,
   "id": "e8c581b9",
   "metadata": {},
   "outputs": [
    {
     "name": "stdout",
     "output_type": "stream",
     "text": [
      "the unique count of values is : 7\n"
     ]
    }
   ],
   "source": [
    "## question 31\n",
    "value = [10,20,30,20,40,50,60,70]\n",
    "unique = set(value)\n",
    "count_unique = len(unique)\n",
    "print(\"the unique count of values is :\",count_unique)"
   ]
  },
  {
   "cell_type": "code",
   "execution_count": 36,
   "id": "994d74ce",
   "metadata": {},
   "outputs": [
    {
     "name": "stdout",
     "output_type": "stream",
     "text": [
      "60480\n"
     ]
    }
   ],
   "source": [
    "## question 32\n",
    "value = [2,4,5,3,4,7,9,8,7,8]\n",
    "unique = list(set(value))\n",
    "product = 1\n",
    "for num in unique:\n",
    "    product*= num\n",
    "print(product)"
   ]
  },
  {
   "cell_type": "code",
   "execution_count": null,
   "id": "437e67bf",
   "metadata": {},
   "outputs": [],
   "source": [
    "## question 33\n"
   ]
  },
  {
   "cell_type": "code",
   "execution_count": null,
   "id": "ed706ca4",
   "metadata": {},
   "outputs": [],
   "source": [
    "## question 34\n"
   ]
  },
  {
   "cell_type": "code",
   "execution_count": 37,
   "id": "b70bd3b0",
   "metadata": {},
   "outputs": [
    {
     "name": "stdout",
     "output_type": "stream",
     "text": [
      "(2, 3, 4)\n",
      "(2, 4, 3)\n",
      "(3, 2, 4)\n",
      "(3, 4, 2)\n",
      "(4, 2, 3)\n",
      "(4, 3, 2)\n"
     ]
    }
   ],
   "source": [
    "## ques 37\n",
    "import itertools\n",
    "\n",
    "value = [2,3,4]\n",
    "combination = list(itertools.permutations(value,3))\n",
    "for a in combination:\n",
    "    print(a)"
   ]
  },
  {
   "cell_type": "code",
   "execution_count": 38,
   "id": "6304a4b0",
   "metadata": {},
   "outputs": [
    {
     "name": "stdout",
     "output_type": "stream",
     "text": [
      "[('tutor', 'software', 'solution'), ('tutor', 'software', 'education'), ('tutor', 'computer', 'solution'), ('tutor', 'computer', 'education')]\n"
     ]
    }
   ],
   "source": [
    "## ques 38 \n",
    "from itertools import product\n",
    "data = [['tutor'],['software','computer'],['solution','education']]\n",
    "combos = list(product(*data))\n",
    "print(combos)"
   ]
  },
  {
   "cell_type": "code",
   "execution_count": 39,
   "id": "3d49aa22",
   "metadata": {},
   "outputs": [
    {
     "name": "stdout",
     "output_type": "stream",
     "text": [
      "[('A', 1), ('A', 2), ('A', 3), ('B', 1), ('B', 2), ('B', 3), ('C', 1), ('C', 2), ('C', 3)]\n"
     ]
    }
   ],
   "source": [
    "## ques 39\n",
    "from itertools import product\n",
    "data1 = ['A','B','C']\n",
    "data2 = [1,2,3]\n",
    "combos = list(product(data1,data2))\n",
    "print(combos)"
   ]
  },
  {
   "cell_type": "code",
   "execution_count": 43,
   "id": "fefc55c5",
   "metadata": {},
   "outputs": [
    {
     "name": "stdout",
     "output_type": "stream",
     "text": [
      "[1, 3, 4, 5, 6]\n"
     ]
    }
   ],
   "source": [
    "## ques 40\n",
    "data = [1,3,4,5,6,1]\n",
    "unique = []\n",
    "for item in data:\n",
    "    if item not in unique:\n",
    "        unique.append(item)\n",
    "print(unique)"
   ]
  },
  {
   "cell_type": "code",
   "execution_count": null,
   "id": "09cf63de",
   "metadata": {},
   "outputs": [],
   "source": []
  }
 ],
 "metadata": {
  "kernelspec": {
   "display_name": "Python 3 (ipykernel)",
   "language": "python",
   "name": "python3"
  },
  "language_info": {
   "codemirror_mode": {
    "name": "ipython",
    "version": 3
   },
   "file_extension": ".py",
   "mimetype": "text/x-python",
   "name": "python",
   "nbconvert_exporter": "python",
   "pygments_lexer": "ipython3",
   "version": "3.11.3"
  }
 },
 "nbformat": 4,
 "nbformat_minor": 5
}
