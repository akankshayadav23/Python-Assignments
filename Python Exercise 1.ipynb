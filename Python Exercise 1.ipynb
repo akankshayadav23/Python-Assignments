{
 "cells": [
  {
   "cell_type": "markdown",
   "id": "2dd5a64d",
   "metadata": {},
   "source": [
    "# Python Exercise 1"
   ]
  },
  {
   "cell_type": "code",
   "execution_count": 3,
   "id": "73d5aa15",
   "metadata": {},
   "outputs": [
    {
     "name": "stdout",
     "output_type": "stream",
     "text": [
      "Enter the number :7\n",
      "Its an odd number\n"
     ]
    }
   ],
   "source": [
    "## question 1\n",
    "## taking input from users for determining its even or odd\n",
    "number = int(input(\"Enter the number :\"))\n",
    "if number % 2 == 0:\n",
    "    print(\"Its an even number\")\n",
    "else:\n",
    "    print(\"Its an odd number\")"
   ]
  },
  {
   "cell_type": "code",
   "execution_count": 8,
   "id": "272b82c7",
   "metadata": {},
   "outputs": [
    {
     "name": "stdout",
     "output_type": "stream",
     "text": [
      "please enter the age in human year :4\n",
      "the equivalent age in dog years is : 29.0\n"
     ]
    }
   ],
   "source": [
    "## question 2\n",
    "human_age = float(input(\"please enter the age in human year :\"))\n",
    "if human_age < 0:\n",
    "    print(\"Error: plese enter a non-negative age for human year\")\n",
    "else:\n",
    "    if human_age <=2:\n",
    "        dog_age = human_age + 10.5\n",
    "    else:\n",
    "            dog_age = 21 +(human_age-2)*4\n",
    "            print(\"the equivalent age in dog years is :\",dog_age)\n",
    "    \n",
    "    \n",
    "    \n",
    "    "
   ]
  },
  {
   "cell_type": "code",
   "execution_count": 15,
   "id": "e7cdadde",
   "metadata": {},
   "outputs": [
    {
     "name": "stdout",
     "output_type": "stream",
     "text": [
      " Please enter the letter :e\n",
      "the letter is vowels\n"
     ]
    }
   ],
   "source": [
    "## question 3\n",
    "alphabet = input(\" Please enter the letter :\").lower()\n",
    "if alphabet in ['a','e','i','o','u']:\n",
    "    print(\"the letter is vowels\")\n",
    "else:\n",
    "    print(\"the letter is consonant\")"
   ]
  },
  {
   "cell_type": "code",
   "execution_count": 17,
   "id": "8b26b778",
   "metadata": {},
   "outputs": [
    {
     "name": "stdout",
     "output_type": "stream",
     "text": [
      "enter the number of side :2\n",
      "Error : please enter the number between 3 and 10 \n"
     ]
    }
   ],
   "source": [
    "## question 4\n",
    "side = int(input(\"enter the number of side :\"))\n",
    "shape = \"\"\n",
    "if side ==3:\n",
    "    shape = \"Triangle\"\n",
    "elif side ==4:\n",
    "    shape = \"Quadrilateral\"\n",
    "elif side ==5:\n",
    "    shape = \"pentagon\"\n",
    "elif side ==6:\n",
    "    shape = \"Hexagon\"\n",
    "elif side == 7:\n",
    "    shape = \"Heptagon\"\n",
    "elif side == 8:\n",
    "    shap = \"Octagon\"\n",
    "elif side ==9:\n",
    "    shape = \"Nonagon\"\n",
    "elif side==10:\n",
    "    shape = \"Decagon\"\n",
    "else:\n",
    "    print(\"Error : please enter the number between 3 and 10 \")\n",
    "if shape:\n",
    "    print(f\"A shape with {side} sides is called :\",{shape})"
   ]
  },
  {
   "cell_type": "code",
   "execution_count": 21,
   "id": "2946f961",
   "metadata": {},
   "outputs": [
    {
     "name": "stdout",
     "output_type": "stream",
     "text": [
      "Please enter the month :february\n",
      "this month named february has 28 days :\n"
     ]
    }
   ],
   "source": [
    "## question 5\n",
    "Month = input(\"Please enter the month :\").lower()\n",
    "days = \"\"\n",
    "if Month==\"january\":\n",
    "    days = 31\n",
    "elif Month==\"february\":\n",
    "    days = 28 or 29\n",
    "elif Month ==\"march\":\n",
    "    days = 31\n",
    "elif Month ==\"april\":\n",
    "    days = 30\n",
    "elif Month ==\"may\":\n",
    "    days = 31\n",
    "elif Month ==\"june\":\n",
    "    days = 30\n",
    "elif Month ==\"july\":\n",
    "    days = 31\n",
    "elif Month ==\"august\":\n",
    "    days = 31\n",
    "elif Month ==\"september\":\n",
    "    days = 30\n",
    "elif Month ==\"october\":\n",
    "    days = 31\n",
    "elif Month ==\"november\":\n",
    "    days = 30\n",
    "elif Month ==\"december\":\n",
    "    days = 31\n",
    "print(f\"this month named {Month} has {days} days :\")\n",
    "\n"
   ]
  },
  {
   "cell_type": "code",
   "execution_count": 3,
   "id": "c60e14b2",
   "metadata": {},
   "outputs": [
    {
     "name": "stdout",
     "output_type": "stream",
     "text": [
      "Enter the Sound Level in DB: 106\n",
      "The noise is : Gas Lawnmower\n"
     ]
    }
   ],
   "source": [
    "## question 6\n",
    "noise_level = {\n",
    "    \"Jackhammer\": 130,\n",
    "    \"Gas Lawnmower\":106,\n",
    "    \"Alarm Clock\": 70,\n",
    "    \"Quick room\":40\n",
    "}\n",
    "user_input = int(input(\"Enter the Sound Level in DB: \"))\n",
    "for noise,level in noise_level.items():\n",
    "    if user_input==level:\n",
    "        print(\"The noise is :\",noise)\n",
    "        break\n",
    "else:\n",
    "    print(\"No matching Noise Levels found.\")\n",
    "\n",
    "\n",
    "\n",
    "\n"
   ]
  },
  {
   "cell_type": "code",
   "execution_count": null,
   "id": "8ac541ec",
   "metadata": {},
   "outputs": [],
   "source": [
    "## question 7\n",
    "## question 8\n"
   ]
  },
  {
   "cell_type": "code",
   "execution_count": 9,
   "id": "f99a1311",
   "metadata": {},
   "outputs": [
    {
     "name": "stdout",
     "output_type": "stream",
     "text": [
      "Enter the Wavelength in Nanometer :420\n",
      "the color is violet\n"
     ]
    }
   ],
   "source": [
    "## question 9\n",
    "\n",
    "wavelength_input = float(input(\"Enter the Wavelength in Nanometer :\"))\n",
    "if 380<=wavelength_input<450:\n",
    "    print(\"the color is violet\")\n",
    "elif 450<=wavelength_input<495:\n",
    "    print(\"The color is Blue\")\n",
    "elif 495<=wavelength_input<570:\n",
    "    print(\"The color is Green\")\n",
    "elif 570<=wavelength_input<590:\n",
    "    print(\"The color is Yellow\")\n",
    "elif 590<=wavelength_input<620:\n",
    "    print(\"the color is Orange\")\n",
    "elif 620<=wavelength_input<=750:\n",
    "    print(\"The color is Red\")\n",
    "else:\n",
    "    print(\"Error : Wavelength is outside the range of visible spectrum.\")\n",
    "\n",
    "\n"
   ]
  },
  {
   "cell_type": "code",
   "execution_count": null,
   "id": "38e21830",
   "metadata": {},
   "outputs": [],
   "source": [
    "\n"
   ]
  }
 ],
 "metadata": {
  "kernelspec": {
   "display_name": "Python 3 (ipykernel)",
   "language": "python",
   "name": "python3"
  },
  "language_info": {
   "codemirror_mode": {
    "name": "ipython",
    "version": 3
   },
   "file_extension": ".py",
   "mimetype": "text/x-python",
   "name": "python",
   "nbconvert_exporter": "python",
   "pygments_lexer": "ipython3",
   "version": "3.11.3"
  }
 },
 "nbformat": 4,
 "nbformat_minor": 5
}
