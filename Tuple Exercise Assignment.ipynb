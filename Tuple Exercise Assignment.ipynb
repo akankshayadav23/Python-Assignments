{
 "cells": [
  {
   "cell_type": "markdown",
   "id": "0237be75",
   "metadata": {},
   "source": [
    "# Tuple exercise "
   ]
  },
  {
   "cell_type": "code",
   "execution_count": 3,
   "id": "d8e54afc",
   "metadata": {},
   "outputs": [
    {
     "name": "stdout",
     "output_type": "stream",
     "text": [
      "<class 'tuple'>\n"
     ]
    }
   ],
   "source": [
    "## question 1 \n",
    "Tuple = ()\n",
    "print(type(Tuple))"
   ]
  },
  {
   "cell_type": "code",
   "execution_count": 6,
   "id": "cc48067c",
   "metadata": {},
   "outputs": [
    {
     "name": "stdout",
     "output_type": "stream",
     "text": [
      "(10, 5)\n",
      "<class 'tuple'>\n"
     ]
    }
   ],
   "source": [
    "## question 2\n",
    "data = (10,5)\n",
    "print(data)\n",
    "print(type(data))"
   ]
  },
  {
   "cell_type": "code",
   "execution_count": 8,
   "id": "4cf33745",
   "metadata": {},
   "outputs": [
    {
     "name": "stdout",
     "output_type": "stream",
     "text": [
      "('tiger', 10, 3.14, 'T')\n",
      "<class 'tuple'>\n"
     ]
    }
   ],
   "source": [
    "## question 3\n",
    "data = ('tiger',10,3.14,'T')\n",
    "print(data)\n",
    "print(type(data))"
   ]
  },
  {
   "cell_type": "code",
   "execution_count": 9,
   "id": "b6c3bbfa",
   "metadata": {},
   "outputs": [
    {
     "name": "stdout",
     "output_type": "stream",
     "text": [
      "a= 3 4 5\n",
      "(3, 4, 5)\n"
     ]
    }
   ],
   "source": [
    "## question 4\n",
    "my_data = (3,4,5)\n",
    "a,b,c = my_data\n",
    "print(\"a=\",a,b,c)\n",
    "print(my_data)"
   ]
  },
  {
   "cell_type": "code",
   "execution_count": 13,
   "id": "82dc280d",
   "metadata": {},
   "outputs": [
    {
     "name": "stdout",
     "output_type": "stream",
     "text": [
      "(10, 30, 40, 50, 60, 20)\n"
     ]
    }
   ],
   "source": [
    "## question 5\n",
    "Tuple = (10,30,40,50,60)\n",
    "new_data = 20\n",
    "new = Tuple + (new_data,)\n",
    "print(new)"
   ]
  },
  {
   "cell_type": "code",
   "execution_count": 15,
   "id": "b427d820",
   "metadata": {},
   "outputs": [
    {
     "name": "stdout",
     "output_type": "stream",
     "text": [
      "Taj Mahal\n"
     ]
    }
   ],
   "source": [
    "## question 6\n",
    "my_data = ('T','a','j',' ','M','a','h','a','l')\n",
    "final_string = ''.join(my_data)\n",
    "print(final_string)"
   ]
  },
  {
   "cell_type": "code",
   "execution_count": 18,
   "id": "8cd7b711",
   "metadata": {},
   "outputs": [
    {
     "name": "stdout",
     "output_type": "stream",
     "text": [
      "2\n",
      "44\n"
     ]
    }
   ],
   "source": [
    "## question 7\n",
    "number = [2,4,5,6,2,45,21,34,65,44,34,37,45]\n",
    "fourth_no = number[4]\n",
    "last_fourth = number[-4]\n",
    "print(fourth_no)\n",
    "print(last_fourth)"
   ]
  },
  {
   "cell_type": "code",
   "execution_count": 22,
   "id": "6f3e2c70",
   "metadata": {},
   "outputs": [
    {
     "name": "stdout",
     "output_type": "stream",
     "text": [
      "('today', 23, 45, 7, 6, 'j')\n"
     ]
    }
   ],
   "source": [
    "## question 8\n",
    "my_data = ('today',23,45,7,6,'j')\n",
    "data = tuple(my_data)\n",
    "print(data)"
   ]
  },
  {
   "cell_type": "code",
   "execution_count": 24,
   "id": "cafabe73",
   "metadata": {},
   "outputs": [
    {
     "name": "stdout",
     "output_type": "stream",
     "text": [
      "item : 2\n",
      "repeated item in group : 3\n"
     ]
    }
   ],
   "source": [
    "## question 9\n",
    "my_data = (2,3,5,6,7,8,9,2,2,3)\n",
    "item1 = 2\n",
    "count = 0\n",
    "\n",
    "for item in my_data:\n",
    "    if item== item1:\n",
    "        count += 1\n",
    "print(\"item :\",item1)\n",
    "print(\"repeated item in group :\",count)\n",
    "        \n",
    "    "
   ]
  },
  {
   "cell_type": "code",
   "execution_count": 36,
   "id": "59809043",
   "metadata": {},
   "outputs": [
    {
     "name": "stdout",
     "output_type": "stream",
     "text": [
      "True\n",
      "True\n",
      "<class 'tuple'>\n"
     ]
    }
   ],
   "source": [
    "## question 10\n",
    "data = (10,20,30,\"t\")\n",
    "print(10 in data)\n",
    "print(20 in data)\n",
    "print(type(data))"
   ]
  },
  {
   "cell_type": "code",
   "execution_count": 37,
   "id": "9760d0b4",
   "metadata": {},
   "outputs": [
    {
     "name": "stdout",
     "output_type": "stream",
     "text": [
      "(2, 4, 5, 6, 7, 8)\n",
      "<class 'tuple'>\n"
     ]
    }
   ],
   "source": [
    "## question 11\n",
    "lyst = [2,4,5,6,7,8]\n",
    "new_tuple = tuple(lyst)\n",
    "print(new_tuple)\n",
    "print(type(new_tuple))"
   ]
  },
  {
   "cell_type": "code",
   "execution_count": 39,
   "id": "3d36a992",
   "metadata": {},
   "outputs": [
    {
     "name": "stdout",
     "output_type": "stream",
     "text": [
      "(2, 4, 5, 6, 78, 32)\n"
     ]
    }
   ],
   "source": [
    "## question 12\n",
    "data = (2,3,4,5,6,78,32)\n",
    "data1 = list(data)\n",
    "## remove 3 from data \n",
    "data1.remove(3)\n",
    "data2 = tuple(data1)\n",
    "print(data2)"
   ]
  },
  {
   "cell_type": "code",
   "execution_count": 40,
   "id": "52c4d2cf",
   "metadata": {},
   "outputs": [
    {
     "name": "stdout",
     "output_type": "stream",
     "text": [
      "(5, 7, 6, 5, 43)\n"
     ]
    }
   ],
   "source": [
    "## question 13\n",
    "data = (2,3,4,5,7,6,5,43,1,23,45,5)\n",
    "new_data = data[3:8]\n",
    "## sliced data\n",
    "print(new_data)"
   ]
  },
  {
   "cell_type": "code",
   "execution_count": 42,
   "id": "25dd965c",
   "metadata": {},
   "outputs": [
    {
     "name": "stdout",
     "output_type": "stream",
     "text": [
      "4\n"
     ]
    }
   ],
   "source": [
    "## question 14 \n",
    "data = (2,3,4,5,6,7,8,9)\n",
    "## finding index number of 6\n",
    "print(data.index(6))"
   ]
  },
  {
   "cell_type": "code",
   "execution_count": 43,
   "id": "28160699",
   "metadata": {},
   "outputs": [
    {
     "name": "stdout",
     "output_type": "stream",
     "text": [
      "5\n"
     ]
    }
   ],
   "source": [
    "## question 15\n",
    "data = (2,3,4,5,6)\n",
    "## finding the length of tuple\n",
    "data1 =len(data)\n",
    "print(data1)"
   ]
  },
  {
   "cell_type": "code",
   "execution_count": 47,
   "id": "b1dae0d4",
   "metadata": {},
   "outputs": [
    {
     "name": "stdout",
     "output_type": "stream",
     "text": [
      "{'name': 'sahil', 'age': 24, 'city': 'pune', 'mark': 86}\n"
     ]
    }
   ],
   "source": [
    "## question 16\n",
    "data = ((\"name\",\"sahil\"),(\"age\",24),(\"city\",\"pune\"),(\"mark\",86))\n",
    "data1 = dict(data)\n",
    "print(data1)\n"
   ]
  },
  {
   "cell_type": "code",
   "execution_count": 48,
   "id": "a1abd944",
   "metadata": {},
   "outputs": [
    {
     "name": "stdout",
     "output_type": "stream",
     "text": [
      "[(10, 20, 30), (20, 40, 60), (3, 50, 70)]\n"
     ]
    }
   ],
   "source": [
    "## question 17\n",
    "list_data = [(10,20,3),(20,40,50),(30,60,70)]\n",
    "unzipped = list(zip(*list_data))\n",
    "print(unzipped)"
   ]
  },
  {
   "cell_type": "code",
   "execution_count": 51,
   "id": "2bc9c058",
   "metadata": {},
   "outputs": [
    {
     "name": "stdout",
     "output_type": "stream",
     "text": [
      "[567, 345, 23, 10]\n"
     ]
    }
   ],
   "source": [
    "## question 18\n",
    "my_data = (10,23,345,567)\n",
    "t = sorted(my_data,reverse=True)\n",
    "print(t)"
   ]
  },
  {
   "cell_type": "code",
   "execution_count": 55,
   "id": "ea09c247",
   "metadata": {},
   "outputs": [
    {
     "name": "stdout",
     "output_type": "stream",
     "text": [
      "{'name': ['ash', 'ram'], 'age': [23, 25], 'gender': ['female', 'male']}\n"
     ]
    }
   ],
   "source": [
    "## question 19\n",
    "data =[(\"name\",\"ash\"),(\"name\",\"ram\"),(\"age\",23),(\"gender\",\"female\"),(\"age\",25),(\"gender\",\"male\")]\n",
    "result = {}\n",
    "for key,value in data:\n",
    "    if key in result:\n",
    "        result[key].append(value)\n",
    "    else:\n",
    "        result[key] = [value]\n",
    "print(result)"
   ]
  },
  {
   "cell_type": "code",
   "execution_count": 56,
   "id": "0716a474",
   "metadata": {},
   "outputs": [
    {
     "name": "stdout",
     "output_type": "stream",
     "text": [
      "fruits ('watermelons', 'strawberries', 'banana', 'mango', 'orange', 'grapes', 'apples')\n"
     ]
    }
   ],
   "source": [
    "## question 20\n",
    "fruits_name = (\"watermelons\",\"strawberries\",\"banana\",\"mango\",\"orange\",\"grapes\",\"apples\")\n",
    "print(f\"fruits {fruits_name}\")"
   ]
  },
  {
   "cell_type": "code",
   "execution_count": 57,
   "id": "7db6c16e",
   "metadata": {},
   "outputs": [
    {
     "name": "stdout",
     "output_type": "stream",
     "text": [
      "34\n",
      "<class 'int'>\n"
     ]
    }
   ],
   "source": [
    "## quesiton 21\n",
    "Tuple = (34)\n",
    "print(Tuple)\n",
    "print(type(Tuple))"
   ]
  },
  {
   "cell_type": "code",
   "execution_count": 58,
   "id": "178310f5",
   "metadata": {},
   "outputs": [
    {
     "name": "stdout",
     "output_type": "stream",
     "text": [
      "10\n",
      "20\n",
      "30\n",
      "40\n",
      "50\n"
     ]
    }
   ],
   "source": [
    "## question 22\n",
    "data = (10,20,30,40,50)\n",
    "for i in data:\n",
    "    print(i)"
   ]
  },
  {
   "cell_type": "code",
   "execution_count": 61,
   "id": "ce0c13dd",
   "metadata": {},
   "outputs": [
    {
     "name": "stdout",
     "output_type": "stream",
     "text": [
      "swap a : (20,)\n",
      "swap b : (10,)\n",
      "<class 'tuple'>\n"
     ]
    }
   ],
   "source": [
    "## question 23\n",
    "a = (10,)\n",
    "b = (20,)\n",
    "A = b\n",
    "B = a\n",
    "print(\"swap a :\",A)\n",
    "print(\"swap b :\",B)\n",
    "print(type(A))"
   ]
  },
  {
   "cell_type": "code",
   "execution_count": 62,
   "id": "744097bb",
   "metadata": {},
   "outputs": [
    {
     "name": "stdout",
     "output_type": "stream",
     "text": [
      "the new tuple set is : (3, 4, 5, 6, 7)\n"
     ]
    }
   ],
   "source": [
    "## question 24\n",
    "data = (1,2,3,4,5,6,7,8,9,10)\n",
    "new_tuple = data[2:7]\n",
    "print(\"the new tuple set is :\",new_tuple)"
   ]
  },
  {
   "cell_type": "code",
   "execution_count": 63,
   "id": "64963fd5",
   "metadata": {},
   "outputs": [
    {
     "name": "stdout",
     "output_type": "stream",
     "text": [
      "(10, 20, 30, 45, 40, 50, 60)\n"
     ]
    }
   ],
   "source": [
    "## question 25\n",
    "data = (10,20,30,33,40,50,60)\n",
    "data1 = list(data)\n",
    "## modifying the tuple and adding the new number to its set that is 45 \n",
    "data1[3]= 45\n",
    "data2 = tuple(data1)\n",
    "print(data2)"
   ]
  },
  {
   "cell_type": "code",
   "execution_count": 66,
   "id": "2f79adde",
   "metadata": {},
   "outputs": [
    {
     "name": "stdout",
     "output_type": "stream",
     "text": [
      "[('d', 98), ('c', 56), ('b', 34), ('a', 43)]\n"
     ]
    }
   ],
   "source": [
    "## question 26\n",
    "data = (('a',43),('b',34),('c',56),('d',98))\n",
    "data1 =sorted(data,reverse=True)\n",
    "print(data1)"
   ]
  },
  {
   "cell_type": "code",
   "execution_count": 67,
   "id": "e66ffbf8",
   "metadata": {},
   "outputs": [
    {
     "name": "stdout",
     "output_type": "stream",
     "text": [
      "the count of 30 is : 3\n"
     ]
    }
   ],
   "source": [
    "## question 27\n",
    "data = (10,20,30,60,50,30,40,30)\n",
    "count_30 = data.count(30)\n",
    "print(\"the count of 30 is :\",count_30)"
   ]
  },
  {
   "cell_type": "code",
   "execution_count": 72,
   "id": "baa77fad",
   "metadata": {},
   "outputs": [
    {
     "name": "stdout",
     "output_type": "stream",
     "text": [
      "the sum of element wise is : 8 14 15\n"
     ]
    }
   ],
   "source": [
    "## question 28\n",
    "set_A = (1,2,3)\n",
    "set_B = (4,5,6)\n",
    "set_C = (3,7,6)\n",
    "\n",
    "sum_ele = set_A[0]+set_B[0]+set_C[0]\n",
    "sum_ele1 = set_A[1]+set_B[1]+set_C[1]\n",
    "sum_ele2 = set_A[2]+set_B[2]+set_C[2]\n",
    "\n",
    "print(\"the sum of element wise is :\",sum_ele,sum_ele1,sum_ele2)"
   ]
  },
  {
   "cell_type": "code",
   "execution_count": 1,
   "id": "0c38ac93",
   "metadata": {},
   "outputs": [
    {
     "name": "stdout",
     "output_type": "stream",
     "text": [
      "[(47, 34), (47, 89)]\n"
     ]
    }
   ],
   "source": [
    "## question 31\n",
    "tuple_set = [(47,34),(3,45),(47,89),(23,645)]\n",
    "k=2\n",
    "result = [a for a in tuple_set if all(isinstance(elem,int) and len(str(elem)) == k for elem in a)]\n",
    "print(result)"
   ]
  },
  {
   "cell_type": "code",
   "execution_count": 2,
   "id": "f608f6ed",
   "metadata": {},
   "outputs": [
    {
     "name": "stdout",
     "output_type": "stream",
     "text": [
      "the reverse set is : {(23, 18), (18, 23), (19, 45), (45, 19)}\n"
     ]
    }
   ],
   "source": [
    "## question 32\n",
    "tuple_set = [(18,23),(2,9),(23,18),(19,45),(4,6),(45,19)]\n",
    "result = set()\n",
    "for a in tuple_set:\n",
    "    reverse_tuple = (a[1],a[0])\n",
    "    if reverse_tuple in tuple_set:\n",
    "        result.add(a)\n",
    "print(\"the reverse set is :\",result)"
   ]
  },
  {
   "cell_type": "code",
   "execution_count": 13,
   "id": "f3975502",
   "metadata": {},
   "outputs": [
    {
     "name": "stdout",
     "output_type": "stream",
     "text": [
      "[(23, 12, 3, 5), (18, 4, 6, 7), (17, 4, 2, 6), (4, 5, 5, 2)]\n"
     ]
    }
   ],
   "source": [
    "## question 33\n",
    "\n",
    "tuple_list = [(4,5,5,2),(18,4,6,7),(23,12,3,5),(17,4,2,6)]\n",
    "result= sorted(tuple_list, key=lambda x:max(x),reverse = True)\n",
    "print(result)"
   ]
  },
  {
   "cell_type": "code",
   "execution_count": 14,
   "id": "d988e571",
   "metadata": {},
   "outputs": [
    {
     "name": "stdout",
     "output_type": "stream",
     "text": [
      "(10, 20, 30, 40, 80, 90)\n"
     ]
    }
   ],
   "source": [
    "## question 34\n",
    "lyst = (10,20,(30),40,(50,60,70),80,90)\n",
    "result = tuple(item for item in lyst if not isinstance(item,tuple))\n",
    "print(result)"
   ]
  },
  {
   "cell_type": "code",
   "execution_count": 15,
   "id": "41c3c590",
   "metadata": {},
   "outputs": [
    {
     "name": "stdout",
     "output_type": "stream",
     "text": [
      "[1, 3, 4, 5, 7, 8, 9]\n"
     ]
    }
   ],
   "source": [
    "## question 35\n",
    "lyst = [(1,3,4),(4,5,7),(7,8,9)]\n",
    "unique = set()\n",
    "for a in lyst:\n",
    "    for element in a:\n",
    "        unique.add(element)\n",
    "unique_list = list(unique)\n",
    "print(unique_list)"
   ]
  },
  {
   "cell_type": "code",
   "execution_count": 19,
   "id": "8bb2aaed",
   "metadata": {},
   "outputs": [
    {
     "name": "stdout",
     "output_type": "stream",
     "text": [
      "((12, 13, 16, 17), (10, 3, 6, 7))\n"
     ]
    }
   ],
   "source": [
    "## question 37\n",
    "tple1 = (12,13,16,17)\n",
    "tple2 = (10,3,6,7)\n",
    "nested_tple = (tple1,)\n",
    "nested_tple1 = (tple2,)\n",
    "result = nested_tple +nested_tple1\n",
    "print(result)"
   ]
  },
  {
   "cell_type": "code",
   "execution_count": 20,
   "id": "079341eb",
   "metadata": {},
   "outputs": [
    {
     "name": "stdout",
     "output_type": "stream",
     "text": [
      "[(2, 4), (5, 7), (9, 6), (4, 6), (8, 7)]\n"
     ]
    }
   ],
   "source": [
    "## question 38\n",
    "lyst = [(2,4),(5,7),(9,6),(4,6),(8,7)]\n",
    "result = sorted(lyst,key =lambda x:min(x))\n",
    "print(lyst)"
   ]
  },
  {
   "cell_type": "code",
   "execution_count": 21,
   "id": "49db3438",
   "metadata": {},
   "outputs": [
    {
     "name": "stdout",
     "output_type": "stream",
     "text": [
      "([20, 23, 34], [25, 29, 43], [40, 56, 87], [2, 3, 10])\n"
     ]
    }
   ],
   "source": [
    "## question 39\n",
    "lyst = ([20,34,23],[29,43,25],[40,56,87],[10,3,2])\n",
    "sorted_list = tuple(sorted(a) for a in lyst)\n",
    "print(sorted_list)"
   ]
  },
  {
   "cell_type": "code",
   "execution_count": 23,
   "id": "8bb764b5",
   "metadata": {},
   "outputs": [
    {
     "name": "stdout",
     "output_type": "stream",
     "text": [
      "[('A', 24), ('B', 23), ('C', 45), ('D', 78)]\n"
     ]
    }
   ],
   "source": [
    "## question 40\n",
    "lyst = [('B',23),('C',45),('A',24),('D',78)]\n",
    "sorted_lyst = sorted(lyst,reverse = False)\n",
    "print(sorted_lyst)"
   ]
  },
  {
   "cell_type": "code",
   "execution_count": null,
   "id": "079e36fc",
   "metadata": {},
   "outputs": [],
   "source": [
    "## question 41"
   ]
  },
  {
   "cell_type": "code",
   "execution_count": 24,
   "id": "dbed4990",
   "metadata": {},
   "outputs": [
    {
     "name": "stdout",
     "output_type": "stream",
     "text": [
      "Given Tuple = (20, 2)\n",
      "Kth Element Index = 1\n",
      "Nearest Tuple: (23, 2)\n"
     ]
    }
   ],
   "source": [
    "## question 42\n",
    "import math\n",
    "tuple_list = [(23, 18), (9, 2), (2, 3), (9, 18), (23, 2)]\n",
    "\n",
    "given_tuple = (20, 2)\n",
    "k = 1\n",
    "closest_tuple = None\n",
    "closest_distance = float('inf')\n",
    "\n",
    "for tup in tuple_list:\n",
    "    distance = math.sqrt((given_tuple[0] - tup[0])**2 + (given_tuple[1] - tup[1])**2)\n",
    "    if distance < closest_distance:\n",
    "        closest_distance = distance\n",
    "        closest_tuple = tup\n",
    "\n",
    "print(\"Given Tuple =\", given_tuple)\n",
    "print(\"Kth Element Index =\", k)\n",
    "print(\"Nearest Tuple:\", closest_tuple)"
   ]
  },
  {
   "cell_type": "code",
   "execution_count": 2,
   "id": "61d21e25",
   "metadata": {},
   "outputs": [
    {
     "name": "stdout",
     "output_type": "stream",
     "text": [
      "the common element are : [(6, 8), (3, 2)]\n"
     ]
    }
   ],
   "source": [
    "## questoin 43\n",
    "lyst1 = [(3,2),(4,7),(6,8),(5,4)]\n",
    "lyst2 = [(6,8),(2,9),(3,2),(9,5)]\n",
    "set1 = set(lyst1)\n",
    "set2 = set(lyst2)\n",
    "intersection_set = set1.intersection(set2)\n",
    "result = list(intersection_set)\n",
    "print(\"the common element are :\",result)"
   ]
  },
  {
   "cell_type": "code",
   "execution_count": 3,
   "id": "038301bf",
   "metadata": {},
   "outputs": [
    {
     "name": "stdout",
     "output_type": "stream",
     "text": [
      "the common element are : [('S', 9), ('A', 3)]\n"
     ]
    }
   ],
   "source": [
    "## question 44\n",
    "lyst1 = [('A',3),('B',8),('S',9),('E',7)]\n",
    "lyst2 = [('F',5),('A',3),('S',9),('W',2)]\n",
    "set1 = set(lyst1)\n",
    "set2 =set(lyst2)\n",
    "intersection_set = set1.intersection(set2)\n",
    "result = list(intersection_set)\n",
    "print(\"the common element are :\",result)"
   ]
  },
  {
   "cell_type": "code",
   "execution_count": 7,
   "id": "663a4dac",
   "metadata": {},
   "outputs": [
    {
     "name": "stdout",
     "output_type": "stream",
     "text": [
      "the unique set is : 4\n"
     ]
    }
   ],
   "source": [
    "## question 45\n",
    "lyst = [(3,4),(1,2),(4,3),(7,6),(2,9)]\n",
    "set1 = [frozenset(a) for a in lyst]\n",
    "unique_set = set(set1)\n",
    "set_count = len(unique_set)\n",
    "print(\"the unique set is :\", set_count)"
   ]
  },
  {
   "cell_type": "code",
   "execution_count": null,
   "id": "24e9a4a3",
   "metadata": {},
   "outputs": [],
   "source": [
    "## question 48\n",
    "tple1 = (10,4,6,9)\n",
    "tple2 = (5,2,3,3)\n"
   ]
  },
  {
   "cell_type": "code",
   "execution_count": null,
   "id": "eb15e430",
   "metadata": {},
   "outputs": [],
   "source": []
  }
 ],
 "metadata": {
  "kernelspec": {
   "display_name": "Python 3 (ipykernel)",
   "language": "python",
   "name": "python3"
  },
  "language_info": {
   "codemirror_mode": {
    "name": "ipython",
    "version": 3
   },
   "file_extension": ".py",
   "mimetype": "text/x-python",
   "name": "python",
   "nbconvert_exporter": "python",
   "pygments_lexer": "ipython3",
   "version": "3.11.3"
  }
 },
 "nbformat": 4,
 "nbformat_minor": 5
}
